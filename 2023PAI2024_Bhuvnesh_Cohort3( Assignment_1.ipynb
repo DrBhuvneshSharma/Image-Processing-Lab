{
  "cells": [
    {
      "cell_type": "code",
      "source": [],
      "metadata": {
        "id": "o1yy3PvnLgap"
      },
      "execution_count": null,
      "outputs": []
    },
    {
      "cell_type": "code",
      "source": [
        "from google.colab import drive\n",
        "drive.mount('/content/drive')"
      ],
      "metadata": {
        "colab": {
          "base_uri": "https://localhost:8080/"
        },
        "id": "0DW8oq4jLkJg",
        "outputId": "bc4735c3-759e-440b-947e-00a21c9f5a66"
      },
      "execution_count": 1,
      "outputs": [
        {
          "output_type": "stream",
          "name": "stdout",
          "text": [
            "Mounted at /content/drive\n"
          ]
        }
      ]
    },
    {
      "cell_type": "code",
      "source": [
        "from google.colab import output\n",
        "output.enable_custom_widget_manager()\n",
        "!pip install ipympl\n"
      ],
      "metadata": {
        "id": "2NcUK848JEXH",
        "outputId": "ae05d0c5-720e-4aba-e4bf-1f18742f7d9f",
        "colab": {
          "base_uri": "https://localhost:8080/"
        }
      },
      "execution_count": 2,
      "outputs": [
        {
          "output_type": "stream",
          "name": "stdout",
          "text": [
            "Collecting ipympl\n",
            "  Downloading ipympl-0.9.4-py3-none-any.whl.metadata (8.7 kB)\n",
            "Requirement already satisfied: ipython-genutils in /usr/local/lib/python3.10/dist-packages (from ipympl) (0.2.0)\n",
            "Requirement already satisfied: ipython<9 in /usr/local/lib/python3.10/dist-packages (from ipympl) (7.34.0)\n",
            "Requirement already satisfied: ipywidgets<9,>=7.6.0 in /usr/local/lib/python3.10/dist-packages (from ipympl) (7.7.1)\n",
            "Requirement already satisfied: matplotlib<4,>=3.4.0 in /usr/local/lib/python3.10/dist-packages (from ipympl) (3.7.1)\n",
            "Requirement already satisfied: numpy in /usr/local/lib/python3.10/dist-packages (from ipympl) (1.26.4)\n",
            "Requirement already satisfied: pillow in /usr/local/lib/python3.10/dist-packages (from ipympl) (10.4.0)\n",
            "Requirement already satisfied: traitlets<6 in /usr/local/lib/python3.10/dist-packages (from ipympl) (5.7.1)\n",
            "Requirement already satisfied: setuptools>=18.5 in /usr/local/lib/python3.10/dist-packages (from ipython<9->ipympl) (71.0.4)\n",
            "Collecting jedi>=0.16 (from ipython<9->ipympl)\n",
            "  Using cached jedi-0.19.1-py2.py3-none-any.whl.metadata (22 kB)\n",
            "Requirement already satisfied: decorator in /usr/local/lib/python3.10/dist-packages (from ipython<9->ipympl) (4.4.2)\n",
            "Requirement already satisfied: pickleshare in /usr/local/lib/python3.10/dist-packages (from ipython<9->ipympl) (0.7.5)\n",
            "Requirement already satisfied: prompt-toolkit!=3.0.0,!=3.0.1,<3.1.0,>=2.0.0 in /usr/local/lib/python3.10/dist-packages (from ipython<9->ipympl) (3.0.47)\n",
            "Requirement already satisfied: pygments in /usr/local/lib/python3.10/dist-packages (from ipython<9->ipympl) (2.18.0)\n",
            "Requirement already satisfied: backcall in /usr/local/lib/python3.10/dist-packages (from ipython<9->ipympl) (0.2.0)\n",
            "Requirement already satisfied: matplotlib-inline in /usr/local/lib/python3.10/dist-packages (from ipython<9->ipympl) (0.1.7)\n",
            "Requirement already satisfied: pexpect>4.3 in /usr/local/lib/python3.10/dist-packages (from ipython<9->ipympl) (4.9.0)\n",
            "Requirement already satisfied: ipykernel>=4.5.1 in /usr/local/lib/python3.10/dist-packages (from ipywidgets<9,>=7.6.0->ipympl) (5.5.6)\n",
            "Requirement already satisfied: widgetsnbextension~=3.6.0 in /usr/local/lib/python3.10/dist-packages (from ipywidgets<9,>=7.6.0->ipympl) (3.6.9)\n",
            "Requirement already satisfied: jupyterlab-widgets>=1.0.0 in /usr/local/lib/python3.10/dist-packages (from ipywidgets<9,>=7.6.0->ipympl) (3.0.13)\n",
            "Requirement already satisfied: contourpy>=1.0.1 in /usr/local/lib/python3.10/dist-packages (from matplotlib<4,>=3.4.0->ipympl) (1.3.0)\n",
            "Requirement already satisfied: cycler>=0.10 in /usr/local/lib/python3.10/dist-packages (from matplotlib<4,>=3.4.0->ipympl) (0.12.1)\n",
            "Requirement already satisfied: fonttools>=4.22.0 in /usr/local/lib/python3.10/dist-packages (from matplotlib<4,>=3.4.0->ipympl) (4.53.1)\n",
            "Requirement already satisfied: kiwisolver>=1.0.1 in /usr/local/lib/python3.10/dist-packages (from matplotlib<4,>=3.4.0->ipympl) (1.4.7)\n",
            "Requirement already satisfied: packaging>=20.0 in /usr/local/lib/python3.10/dist-packages (from matplotlib<4,>=3.4.0->ipympl) (24.1)\n",
            "Requirement already satisfied: pyparsing>=2.3.1 in /usr/local/lib/python3.10/dist-packages (from matplotlib<4,>=3.4.0->ipympl) (3.1.4)\n",
            "Requirement already satisfied: python-dateutil>=2.7 in /usr/local/lib/python3.10/dist-packages (from matplotlib<4,>=3.4.0->ipympl) (2.8.2)\n",
            "Requirement already satisfied: jupyter-client in /usr/local/lib/python3.10/dist-packages (from ipykernel>=4.5.1->ipywidgets<9,>=7.6.0->ipympl) (6.1.12)\n",
            "Requirement already satisfied: tornado>=4.2 in /usr/local/lib/python3.10/dist-packages (from ipykernel>=4.5.1->ipywidgets<9,>=7.6.0->ipympl) (6.3.3)\n",
            "Requirement already satisfied: parso<0.9.0,>=0.8.3 in /usr/local/lib/python3.10/dist-packages (from jedi>=0.16->ipython<9->ipympl) (0.8.4)\n",
            "Requirement already satisfied: ptyprocess>=0.5 in /usr/local/lib/python3.10/dist-packages (from pexpect>4.3->ipython<9->ipympl) (0.7.0)\n",
            "Requirement already satisfied: wcwidth in /usr/local/lib/python3.10/dist-packages (from prompt-toolkit!=3.0.0,!=3.0.1,<3.1.0,>=2.0.0->ipython<9->ipympl) (0.2.13)\n",
            "Requirement already satisfied: six>=1.5 in /usr/local/lib/python3.10/dist-packages (from python-dateutil>=2.7->matplotlib<4,>=3.4.0->ipympl) (1.16.0)\n",
            "Requirement already satisfied: notebook>=4.4.1 in /usr/local/lib/python3.10/dist-packages (from widgetsnbextension~=3.6.0->ipywidgets<9,>=7.6.0->ipympl) (6.5.5)\n",
            "Requirement already satisfied: jinja2 in /usr/local/lib/python3.10/dist-packages (from notebook>=4.4.1->widgetsnbextension~=3.6.0->ipywidgets<9,>=7.6.0->ipympl) (3.1.4)\n",
            "Requirement already satisfied: pyzmq<25,>=17 in /usr/local/lib/python3.10/dist-packages (from notebook>=4.4.1->widgetsnbextension~=3.6.0->ipywidgets<9,>=7.6.0->ipympl) (24.0.1)\n",
            "Requirement already satisfied: argon2-cffi in /usr/local/lib/python3.10/dist-packages (from notebook>=4.4.1->widgetsnbextension~=3.6.0->ipywidgets<9,>=7.6.0->ipympl) (23.1.0)\n",
            "Requirement already satisfied: jupyter-core>=4.6.1 in /usr/local/lib/python3.10/dist-packages (from notebook>=4.4.1->widgetsnbextension~=3.6.0->ipywidgets<9,>=7.6.0->ipympl) (5.7.2)\n",
            "Requirement already satisfied: nbformat in /usr/local/lib/python3.10/dist-packages (from notebook>=4.4.1->widgetsnbextension~=3.6.0->ipywidgets<9,>=7.6.0->ipympl) (5.10.4)\n",
            "Requirement already satisfied: nbconvert>=5 in /usr/local/lib/python3.10/dist-packages (from notebook>=4.4.1->widgetsnbextension~=3.6.0->ipywidgets<9,>=7.6.0->ipympl) (6.5.4)\n",
            "Requirement already satisfied: nest-asyncio>=1.5 in /usr/local/lib/python3.10/dist-packages (from notebook>=4.4.1->widgetsnbextension~=3.6.0->ipywidgets<9,>=7.6.0->ipympl) (1.6.0)\n",
            "Requirement already satisfied: Send2Trash>=1.8.0 in /usr/local/lib/python3.10/dist-packages (from notebook>=4.4.1->widgetsnbextension~=3.6.0->ipywidgets<9,>=7.6.0->ipympl) (1.8.3)\n",
            "Requirement already satisfied: terminado>=0.8.3 in /usr/local/lib/python3.10/dist-packages (from notebook>=4.4.1->widgetsnbextension~=3.6.0->ipywidgets<9,>=7.6.0->ipympl) (0.18.1)\n",
            "Requirement already satisfied: prometheus-client in /usr/local/lib/python3.10/dist-packages (from notebook>=4.4.1->widgetsnbextension~=3.6.0->ipywidgets<9,>=7.6.0->ipympl) (0.21.0)\n",
            "Requirement already satisfied: nbclassic>=0.4.7 in /usr/local/lib/python3.10/dist-packages (from notebook>=4.4.1->widgetsnbextension~=3.6.0->ipywidgets<9,>=7.6.0->ipympl) (1.1.0)\n",
            "Requirement already satisfied: platformdirs>=2.5 in /usr/local/lib/python3.10/dist-packages (from jupyter-core>=4.6.1->notebook>=4.4.1->widgetsnbextension~=3.6.0->ipywidgets<9,>=7.6.0->ipympl) (4.3.6)\n",
            "Requirement already satisfied: notebook-shim>=0.2.3 in /usr/local/lib/python3.10/dist-packages (from nbclassic>=0.4.7->notebook>=4.4.1->widgetsnbextension~=3.6.0->ipywidgets<9,>=7.6.0->ipympl) (0.2.4)\n",
            "Requirement already satisfied: lxml in /usr/local/lib/python3.10/dist-packages (from nbconvert>=5->notebook>=4.4.1->widgetsnbextension~=3.6.0->ipywidgets<9,>=7.6.0->ipympl) (4.9.4)\n",
            "Requirement already satisfied: beautifulsoup4 in /usr/local/lib/python3.10/dist-packages (from nbconvert>=5->notebook>=4.4.1->widgetsnbextension~=3.6.0->ipywidgets<9,>=7.6.0->ipympl) (4.12.3)\n",
            "Requirement already satisfied: bleach in /usr/local/lib/python3.10/dist-packages (from nbconvert>=5->notebook>=4.4.1->widgetsnbextension~=3.6.0->ipywidgets<9,>=7.6.0->ipympl) (6.1.0)\n",
            "Requirement already satisfied: defusedxml in /usr/local/lib/python3.10/dist-packages (from nbconvert>=5->notebook>=4.4.1->widgetsnbextension~=3.6.0->ipywidgets<9,>=7.6.0->ipympl) (0.7.1)\n",
            "Requirement already satisfied: entrypoints>=0.2.2 in /usr/local/lib/python3.10/dist-packages (from nbconvert>=5->notebook>=4.4.1->widgetsnbextension~=3.6.0->ipywidgets<9,>=7.6.0->ipympl) (0.4)\n",
            "Requirement already satisfied: jupyterlab-pygments in /usr/local/lib/python3.10/dist-packages (from nbconvert>=5->notebook>=4.4.1->widgetsnbextension~=3.6.0->ipywidgets<9,>=7.6.0->ipympl) (0.3.0)\n",
            "Requirement already satisfied: MarkupSafe>=2.0 in /usr/local/lib/python3.10/dist-packages (from nbconvert>=5->notebook>=4.4.1->widgetsnbextension~=3.6.0->ipywidgets<9,>=7.6.0->ipympl) (2.1.5)\n",
            "Requirement already satisfied: mistune<2,>=0.8.1 in /usr/local/lib/python3.10/dist-packages (from nbconvert>=5->notebook>=4.4.1->widgetsnbextension~=3.6.0->ipywidgets<9,>=7.6.0->ipympl) (0.8.4)\n",
            "Requirement already satisfied: nbclient>=0.5.0 in /usr/local/lib/python3.10/dist-packages (from nbconvert>=5->notebook>=4.4.1->widgetsnbextension~=3.6.0->ipywidgets<9,>=7.6.0->ipympl) (0.10.0)\n",
            "Requirement already satisfied: pandocfilters>=1.4.1 in /usr/local/lib/python3.10/dist-packages (from nbconvert>=5->notebook>=4.4.1->widgetsnbextension~=3.6.0->ipywidgets<9,>=7.6.0->ipympl) (1.5.1)\n",
            "Requirement already satisfied: tinycss2 in /usr/local/lib/python3.10/dist-packages (from nbconvert>=5->notebook>=4.4.1->widgetsnbextension~=3.6.0->ipywidgets<9,>=7.6.0->ipympl) (1.3.0)\n",
            "Requirement already satisfied: fastjsonschema>=2.15 in /usr/local/lib/python3.10/dist-packages (from nbformat->notebook>=4.4.1->widgetsnbextension~=3.6.0->ipywidgets<9,>=7.6.0->ipympl) (2.20.0)\n",
            "Requirement already satisfied: jsonschema>=2.6 in /usr/local/lib/python3.10/dist-packages (from nbformat->notebook>=4.4.1->widgetsnbextension~=3.6.0->ipywidgets<9,>=7.6.0->ipympl) (4.23.0)\n",
            "Requirement already satisfied: argon2-cffi-bindings in /usr/local/lib/python3.10/dist-packages (from argon2-cffi->notebook>=4.4.1->widgetsnbextension~=3.6.0->ipywidgets<9,>=7.6.0->ipympl) (21.2.0)\n",
            "Requirement already satisfied: attrs>=22.2.0 in /usr/local/lib/python3.10/dist-packages (from jsonschema>=2.6->nbformat->notebook>=4.4.1->widgetsnbextension~=3.6.0->ipywidgets<9,>=7.6.0->ipympl) (24.2.0)\n",
            "Requirement already satisfied: jsonschema-specifications>=2023.03.6 in /usr/local/lib/python3.10/dist-packages (from jsonschema>=2.6->nbformat->notebook>=4.4.1->widgetsnbextension~=3.6.0->ipywidgets<9,>=7.6.0->ipympl) (2023.12.1)\n",
            "Requirement already satisfied: referencing>=0.28.4 in /usr/local/lib/python3.10/dist-packages (from jsonschema>=2.6->nbformat->notebook>=4.4.1->widgetsnbextension~=3.6.0->ipywidgets<9,>=7.6.0->ipympl) (0.35.1)\n",
            "Requirement already satisfied: rpds-py>=0.7.1 in /usr/local/lib/python3.10/dist-packages (from jsonschema>=2.6->nbformat->notebook>=4.4.1->widgetsnbextension~=3.6.0->ipywidgets<9,>=7.6.0->ipympl) (0.20.0)\n",
            "Requirement already satisfied: jupyter-server<3,>=1.8 in /usr/local/lib/python3.10/dist-packages (from notebook-shim>=0.2.3->nbclassic>=0.4.7->notebook>=4.4.1->widgetsnbextension~=3.6.0->ipywidgets<9,>=7.6.0->ipympl) (1.24.0)\n",
            "Requirement already satisfied: cffi>=1.0.1 in /usr/local/lib/python3.10/dist-packages (from argon2-cffi-bindings->argon2-cffi->notebook>=4.4.1->widgetsnbextension~=3.6.0->ipywidgets<9,>=7.6.0->ipympl) (1.17.1)\n",
            "Requirement already satisfied: soupsieve>1.2 in /usr/local/lib/python3.10/dist-packages (from beautifulsoup4->nbconvert>=5->notebook>=4.4.1->widgetsnbextension~=3.6.0->ipywidgets<9,>=7.6.0->ipympl) (2.6)\n",
            "Requirement already satisfied: webencodings in /usr/local/lib/python3.10/dist-packages (from bleach->nbconvert>=5->notebook>=4.4.1->widgetsnbextension~=3.6.0->ipywidgets<9,>=7.6.0->ipympl) (0.5.1)\n",
            "Requirement already satisfied: pycparser in /usr/local/lib/python3.10/dist-packages (from cffi>=1.0.1->argon2-cffi-bindings->argon2-cffi->notebook>=4.4.1->widgetsnbextension~=3.6.0->ipywidgets<9,>=7.6.0->ipympl) (2.22)\n",
            "Requirement already satisfied: anyio<4,>=3.1.0 in /usr/local/lib/python3.10/dist-packages (from jupyter-server<3,>=1.8->notebook-shim>=0.2.3->nbclassic>=0.4.7->notebook>=4.4.1->widgetsnbextension~=3.6.0->ipywidgets<9,>=7.6.0->ipympl) (3.7.1)\n",
            "Requirement already satisfied: websocket-client in /usr/local/lib/python3.10/dist-packages (from jupyter-server<3,>=1.8->notebook-shim>=0.2.3->nbclassic>=0.4.7->notebook>=4.4.1->widgetsnbextension~=3.6.0->ipywidgets<9,>=7.6.0->ipympl) (1.8.0)\n",
            "Requirement already satisfied: idna>=2.8 in /usr/local/lib/python3.10/dist-packages (from anyio<4,>=3.1.0->jupyter-server<3,>=1.8->notebook-shim>=0.2.3->nbclassic>=0.4.7->notebook>=4.4.1->widgetsnbextension~=3.6.0->ipywidgets<9,>=7.6.0->ipympl) (3.10)\n",
            "Requirement already satisfied: sniffio>=1.1 in /usr/local/lib/python3.10/dist-packages (from anyio<4,>=3.1.0->jupyter-server<3,>=1.8->notebook-shim>=0.2.3->nbclassic>=0.4.7->notebook>=4.4.1->widgetsnbextension~=3.6.0->ipywidgets<9,>=7.6.0->ipympl) (1.3.1)\n",
            "Requirement already satisfied: exceptiongroup in /usr/local/lib/python3.10/dist-packages (from anyio<4,>=3.1.0->jupyter-server<3,>=1.8->notebook-shim>=0.2.3->nbclassic>=0.4.7->notebook>=4.4.1->widgetsnbextension~=3.6.0->ipywidgets<9,>=7.6.0->ipympl) (1.2.2)\n",
            "Downloading ipympl-0.9.4-py3-none-any.whl (516 kB)\n",
            "\u001b[2K   \u001b[90m━━━━━━━━━━━━━━━━━━━━━━━━━━━━━━━━━━━━━━━━\u001b[0m \u001b[32m516.3/516.3 kB\u001b[0m \u001b[31m11.0 MB/s\u001b[0m eta \u001b[36m0:00:00\u001b[0m\n",
            "\u001b[?25hUsing cached jedi-0.19.1-py2.py3-none-any.whl (1.6 MB)\n",
            "Installing collected packages: jedi, ipympl\n",
            "Successfully installed ipympl-0.9.4 jedi-0.19.1\n"
          ]
        }
      ]
    },
    {
      "cell_type": "code",
      "source": [
        "import imageio.v3 as iio\n",
        "import ipympl\n",
        "import matplotlib.pyplot as plt\n",
        "import numpy as np\n"
      ],
      "metadata": {
        "id": "qBWAOKc8Jcq-"
      },
      "execution_count": 4,
      "outputs": []
    },
    {
      "cell_type": "code",
      "source": [
        "eight = iio.imread(uri=\"/content/drive/MyDrive/Image Processing/eight.tif\")\n",
        "plt.imshow(eight)\n",
        "plt.show()\n"
      ],
      "metadata": {
        "id": "jEIfvfC6JhsY",
        "outputId": "bed15877-368d-4766-f87b-e388ffecbb67",
        "colab": {
          "base_uri": "https://localhost:8080/",
          "height": 569,
          "referenced_widgets": [
            "20a3c4c28a3d4209aaf34eb2159fd043",
            "531bfcffe33d4ecdb62ca76c6f64eb2c",
            "f864d9bc941346ae89b85abe0fc55aa9",
            "842721384c0747c2800e853e043c247a"
          ]
        }
      },
      "execution_count": 5,
      "outputs": [
        {
          "output_type": "display_data",
          "data": {
            "text/plain": [
              "Canvas(toolbar=Toolbar(toolitems=[('Home', 'Reset original view', 'home', 'home'), ('Back', 'Back to previous …"
            ],
            "image/png": "[encoded data removed]",
            "text/html": [
              "\n",
              "            <div style=\"display: inline-block;\">\n",
              "                <div class=\"jupyter-widgets widget-label\" style=\"text-align: center;\">\n",
              "                    Figure\n",
              "                </div>\n",
              "                <img src='data:image/png;base64,iVBORw0KGgoAAAANSUhEUgAAAoAAAAHgCAYAAAA10dzkAAAAOXRFWHRTb2Z0d2FyZQBNYXRwbG90bGliIHZlcnNpb24zLjcuMSwgaHR0cHM6Ly9tYXRwbG90bGliLm9yZy/bCgiHAAAACXBIWXMAAA9hAAAPYQGoP6dpAAASaUlEQVR4nO3dX2hXh93H8W8082e3JWGuaBcSaWGw0YnKrBXpQ2m3rOIzpN7tYrDMi8FGLJPcbLmZ7GKkMBjdUFwZ27yZVHZhC2WrFIeGQl1tRGg3Vij0IuDU9ibRXKTW/HYxnjyImsS/J/bzesFBzvEIH34gfXt+R9vRbrfbBQBAjGVNDwAA4N4SgAAAYQQgAEAYAQgAEEYAAgCEEYAAAGEEIABAGAEIABBGAAIAhBGAAABhBCAAQBgBCAAQRgACAIQRgAAAYQQgAEAYAQgAEEYAAgCEEYAAAGEEIABAGAEIABBGAAIAhBGAAABhBCAAQBgBCAAQRgACAIQRgAAAYQQgAEAYAQgAEEYAAgCEEYAAAGEEIABAGAEIABBGAAIAhBGAAABhBCAAQBgBCAAQRgACAIQRgAAAYQQgAEAYAQgAEEYAAgCEEYAAAGEEIABAGAEIABBGAAIAhBGAAABhBCAAQBgBCAAQRgACAIQRgAAAYQQgAEAYAQgAEEYAAgCEEYAAAGEEIABAGAEIABCms+kB8Gk2OztbZ8+era6ururo6Gh6DkRot9t18eLF6u3trWXLPOeA6xGAcBedPXu2+vv7m54BkSYmJqqvr6/pGbAkCUC4i7q6uqqq6n/qf6uzPtPwGsjwSV2uN+ovc7//gGsJQLiL/u9r3876THV2CEC4J9r//cFrF3BjXo4AAAgjAAEAwghAAIAwAhAAIIwABAAIIwABAMIIQACAMAIQACCMAAQACCMAAQDCCEAAgDACEAAgjAAEAAgjAAEAwghAAIAwAhAAIIwABAAIIwABAMIIQACAMAIQACCMAAQACCMAAQDCCEAAgDACEAAgjAAEAAgjAAEAwghAAIAwAhAAIIwABAAIIwBhEfbv318PP/xwrVy5srZs2VJvvfVW05MA4JYJQFjA4cOHa3h4uPbu3VunT5+uDRs21LZt2+rChQtNTwOAWyIAYQG/+tWv6gc/+EHt2rWrHn300frtb39bn/3sZ+sPf/hD09MA4JYIQJjHxx9/XOPj4zUwMDB3bdmyZTUwMFBvvvlmg8sA4NZ1Nj0AlrKPPvqorly5UmvWrLnq+po1a+pf//rXNffPzMzUzMzM3PnU1NRd3wgAN8sTQLiDRkdHq6enZ+7o7+9vehIAXEMAwjwefPDBWr58eZ0/f/6q6+fPn6+HHnromvtHRkZqcnJy7piYmLhXUwFg0QQgzGPFihW1adOmOnbs2Ny12dnZOnbsWG3duvWa+1utVnV3d191AMBS4x1AWMDw8HANDg7WY489Vo8//ni98MILNT09Xbt27Wp6GgDcEgEIC/jOd75TH374Yf3sZz+rc+fO1caNG+u111675i+GAMD9oqPdbrebHgGfVlNTU9XT01NP1bPV2fGZpudAhE/al+t4vVKTk5New4Ab8A4gAEAYAQgAEEYAAgCEEYAAAGEEIABAGAEIABBGAAIAhBGAAABhBCAAQBgBCAAQRgACAIQRgAAAYQQgAEAYAQgAEEYAAgCEEYAAAGEEIABAGAEIABBGAAIAhBGAAABhBCAAQBgBCAAQRgACAIQRgAAAYQQgAEAYAQgAEEYAAgCEEYAAAGEEIABAGAEIABCms+kBAFVVR8+eaXrCfWFb78amJwCfAp4AAgCEEYAAAGEEIABAGAEIABBGAAIAhBGAAABhBCAAQBgBCAAQRgACAIQRgAAAYQQgAEAYAQgAEEYAAgCEEYAAAGEEIABAGAEIABBGAAIAhBGAAABhBCAAQBgBCAAQRgACAIQRgAAAYQQgAEAYAQgAEEYAAgCEEYAAAGEEIABAGAEIABBGAAIAhBGAAABhBCAAQBgBCAAQRgDCPMbGxmrHjh3V29tbHR0d9fLLLzc9CQBumwCEeUxPT9eGDRtq//79TU8BgDums+kBsJRt3769tm/f3vQMALijBCDcQTMzMzUzMzN3PjU11eAaALg+XwHDHTQ6Olo9PT1zR39/f9OTAOAaAhDuoJGRkZqcnJw7JiYmmp4EANfwFTDcQa1Wq1qtVtMzAGBengACAITxBBDmcenSpXr//ffnzj/44IM6c+ZMrVq1qtauXdvgMgC4dQIQ5vH222/X008/PXc+PDxcVVWDg4N18ODBhlYBwO0RgDCPp556qtrtdtMzAOCO8g4gAEAYAQgAEEYAAgCEEYAAAGEEIABAGAEIABBGAAIAhBGAAABhBCAAQBgBCAAQRgACAIQRgAAAYQQgAEAYAQgAEEYAAgCEEYAAAGEEIABAGAEIABBGAAIAhBGAAABhBCAAQBgBCAAQRgACAIQRgAAAYQQgAEAYAQgAEEYAAgCEEYAAAGEEIABAGAEIABCms+kBAFVV23o3Nj0BIIYngAAAYQQgAEAYAQgAEEYAAgCEEYAAAGEEIABAGAEIABBGAAIAhBGAAABhBCAAQBgBCAAQRgACAIQRgAAAYQQgAEAYAQgAEEYAAgCEEYAAAGEEIABAGAEIABBGAAIAhBGAAABhBCAAQBgBCAAQRgACAIQRgAAAYQQgAEAYAQgAEEYAAgCEEYAAAGEEIABAGAEIABBGAAIAhBGAMI/R0dHavHlzdXV11erVq2vnzp313nvvNT0LAG6LAIR5nDhxooaGhurkyZP1+uuv1+XLl+uZZ56p6enppqcBwC3rbHoALGWvvfbaVecHDx6s1atX1/j4eD355JMNrQKA2yMA4SZMTk5WVdWqVauu+/MzMzM1MzMzdz41NXVPdgHAzfAVMCzS7Oxs7dmzp5544olat27dde8ZHR2tnp6euaO/v/8erwSAhQlAWKShoaF6991366WXXrrhPSMjIzU5OTl3TExM3MOFALA4vgKGRdi9e3e9+uqrNTY2Vn19fTe8r9VqVavVuofLAODmCUCYR7vdrueee66OHDlSx48fr0ceeaTpSQBw2wQgzGNoaKgOHTpUr7zySnV1ddW5c+eqqqqnp6ceeOCBhtcBwK3xDiDM48CBAzU5OVlPPfVUfelLX5o7Dh8+3PQ0ALhlngDCPNrtdtMTAOCO8wQQACCMAAQACCMAAQDCCEAAgDACEAAgjAAEAAgjAAEAwghAAIAwAhAAIIwABAAIIwABAMIIQACAMAIQACCMAAQACCMAAQDCCEAAgDACEAAgjAAEAAgjAAEAwghAAIAwAhAAIIwABAAIIwABAMIIQACAMAIQACCMAAQACCMAAQDCCEAAgDACEAAgjAAEAAjT2fQAgKqqo2fPND3hvrCtd2PTE4BPAU8AAQDCCEAAgDACEAAgjAAEAAgjAAEAwghAAIAwAhAAIIwABAAIIwABAMIIQACAMAIQACCMAAQACCMAAQDCCEAAgDACEAAgjAAEAAgjAAEAwghAAIAwAhAAIIwABAAIIwABAMIIQACAMAIQACCMAAQACCMAAQDCCEAAgDACEAAgjAAEAAgjAAEAwghAAIAwAhAAIIwABAAIIwBhHgcOHKj169dXd3d3dXd319atW+uvf/1r07MA4LYIQJhHX19fPf/88zU+Pl5vv/12feMb36hnn322/vGPfzQ9DQBuWWfTA2Ap27Fjx1Xnv/jFL+rAgQN18uTJ+trXvtbQKgC4PQIQFunKlSv15z//uaanp2vr1q3XvWdmZqZmZmbmzqempu7VPABYNF8BwwLeeeed+vznP1+tVqt++MMf1pEjR+rRRx+97r2jo6PV09Mzd/T399/jtQCwMAEIC/jKV75SZ86cqb///e/1ox/9qAYHB+uf//znde8dGRmpycnJuWNiYuIerwWAhfkKGBawYsWK+vKXv1xVVZs2bapTp07Vr3/963rxxRevubfValWr1brXEwHgpngCCDdpdnb2qvf8AOB+4wkgzGNkZKS2b99ea9eurYsXL9ahQ4fq+PHjdfTo0aanAcAtE4AwjwsXLtT3vve9+ve//109PT21fv36Onr0aH3rW99qehoA3DIBCPP4/e9/3/QEALjjvAMIABBGAAIAhBGAAABhBCAAQBgBCAAQRgACAIQRgAAAYQQgAEAYAQgAEEYAAgCEEYAAAGEEIABAGAEIABBGAAIAhBGAAABhBCAAQBgBCAAQRgACAIQRgAAAYQQgAEAYAQgAEEYAAgCEEYAAAGEEIABAGAEIABBGAAIAhBGAAABhBCAAQBgBCAAQRgACAITpbHoAQFXVtt6NTU8AiOEJIABAGAEIABBGAAIAhBGAAABhBCAAQBgBCAAQRgACAIQRgAAAYQQgAEAYAQgAEEYAAgCEEYAAAGEEIABAGAEIABBGAAIAhBGAAABhBCAAQBgBCAAQRgACAIQRgAAAYQQgAEAYAQgAEEYAAgCEEYAAAGEEIABAGAEIABBGAAIAhBGAAABhBCAAQBgBCAAQRgACAIQRgAAAYQQgLNLzzz9fHR0dtWfPnqanAMBtEYCwCKdOnaoXX3yx1q9f3/QUALhtAhAWcOnSpfrud79bv/vd7+oLX/hC03MA4LYJQFjA0NBQffvb366BgYEF752ZmampqamrDgBYajqbHgBL2UsvvVSnT5+uU6dOLer+0dHR+vnPf36XVwHA7fEEEG5gYmKifvzjH9ef/vSnWrly5aJ+zcjISE1OTs4dExMTd3klANw8TwDhBsbHx+vChQv19a9/fe7alStXamxsrPbt21czMzO1fPnyq35Nq9WqVqt1r6cCwE0RgHAD3/zmN+udd9656tquXbvqq1/9av3kJz+5Jv4A4H4hAOEGurq6at26dVdd+9znPldf/OIXr7kOAPcT7wACAITxBBBuwvHjx5ueAAC3zRNAAIAwAhAAIIwABAAIIwABAMIIQACAMAIQACCMAAQACCMAAQDCCEAAgDACEAAgjAAEAAgjAAEAwghAAIAwAhAAIIwABAAIIwABAMIIQACAMAIQACCMAAQACCMAAQDCCEAAgDACEAAgjAAEAAgjAAEAwghAAIAwAhAAIIwABAAIIwABAMIIQACAMJ1ND4BPs3a7XVVVn9TlqnbDYyDEJ3W5qv7/9x9wLQEId9HFixerquqN+kvDSyDPxYsXq6enp+kZsCR1tP0RCe6a2dnZOnv2bHV1dVVHR0fTc6qqampqqvr7+2tiYqK6u7ubnrNk+ZwWZyl+Tu12uy5evFi9vb21bJk3neB6PAGEu2jZsmXV19fX9Izr6u7uXjL/wV7KfE6Ls9Q+J0/+YH7+aAQAEEYAAgCEEYAQptVq1d69e6vVajU9ZUnzOS2OzwnuT/4SCABAGE8AAQDCCEAAgDACEAAgjAAEAAgjACHM/v376+GHH66VK1fWli1b6q233mp60pIyNjZWO3bsqN7e3uro6KiXX3656UlL0ujoaG3evLm6urpq9erVtXPnznrvvfeangUskgCEIIcPH67h4eHau3dvnT59ujZs2FDbtm2rCxcuND1tyZienq4NGzbU/v37m56ypJ04caKGhobq5MmT9frrr9fly5frmWeeqenp6aanAYvgn4GBIFu2bKnNmzfXvn37quq//6/i/v7+eu655+qnP/1pw+uWno6Ojjpy5Ejt3Lmz6SlL3ocfflirV6+uEydO1JNPPtn0HGABngBCiI8//rjGx8drYGBg7tqyZctqYGCg3nzzzQaX8WkwOTlZVVWrVq1qeAmwGAIQQnz00Ud15cqVWrNmzVXX16xZU+fOnWtoFZ8Gs7OztWfPnnriiSdq3bp1Tc8BFqGz6QEA3N+Ghobq3XffrTfeeKPpKcAiCUAI8eCDD9by5cvr/PnzV10/f/58PfTQQw2t4n63e/fuevXVV2tsbKz6+vqangMskq+AIcSKFStq06ZNdezYsblrs7OzdezYsdq6dWuDy7gftdvt2r17dx05cqT+9re/1SOPPNL0JOAmeAIIQYaHh2twcLAee+yxevzxx+uFF16o6enp2rVrV9PTloxLly7V+++/P3f+wQcf1JkzZ2rVqlW1du3aBpctLUNDQ3Xo0KF65ZVXqqura+490p6ennrggQcaXgcsxD8DA2H27dtXv/zlL+vcuXO1cePG+s1vflNbtmxpetaScfz48Xr66aevuT44OFgHDx6894OWqI6Ojute/+Mf/1jf//737+0Y4KYJQACAMN4BBAAIIwABAMIIQACAMAIQACCMAAQACCMAAQDCCEAAgDACEAAgjAAEAAgjAAEAwghAAIAwAhAAIIwABAAIIwABAMIIQACAMAIQACCMAAQACCMAAQDCCEAAgDACEAAgjAAEAAgjAAEAwghAAIAwAhAAIIwABAAIIwABAMIIQACAMAIQACCMAAQACCMAAQDCCEAAgDD/AWAY96Wyu/mgAAAAAElFTkSuQmCC' width=640.0/>\n",
              "            </div>\n",
              "        "
            ],
            "application/vnd.jupyter.widget-view+json": {
              "version_major": 2,
              "version_minor": 0,
              "model_id": "20a3c4c28a3d4209aaf34eb2159fd043"
            }
          },
          "metadata": {
            "application/vnd.jupyter.widget-view+json": {
              "colab": {
                "custom_widget_manager": {
                  "url": "https://ssl.gstatic.com/colaboratory-static/widgets/colab-cdn-widget-manager/2b70e893a8ba7c0f/manager.min.js"
                }
              }
            }
          }
        }
      ]
    },
    {
      "cell_type": "code",
      "source": [
        "#Digit 0\n",
        "zero = iio.imread(uri=\"/content/drive/MyDrive/Image Processing/eight.tif\")\n",
        "zero[2,1] = 1.0\n",
        "plt.imshow(zero)\n",
        "plt.show()\n"
      ],
      "metadata": {
        "colab": {
          "base_uri": "https://localhost:8080/",
          "height": 569,
          "referenced_widgets": [
            "20a3c4c28a3d4209aaf34eb2159fd043",
            "531bfcffe33d4ecdb62ca76c6f64eb2c",
            "f864d9bc941346ae89b85abe0fc55aa9",
            "842721384c0747c2800e853e043c247a"
          ]
        },
        "id": "9NXGe_WTMJMa",
        "outputId": "e6949993-27b4-4588-cc9e-461066be408c"
      },
      "execution_count": 6,
      "outputs": [
        {
          "output_type": "display_data",
          "data": {
            "text/plain": [
              "Canvas(toolbar=Toolbar(toolitems=[('Home', 'Reset original view', 'home', 'home'), ('Back', 'Back to previous …"
            ],
            "image/png": "[encoded data removed]",
            "text/html": [
              "\n",
              "            <div style=\"display: inline-block;\">\n",
              "                <div class=\"jupyter-widgets widget-label\" style=\"text-align: center;\">\n",
              "                    Figure 1\n",
              "                </div>\n",
              "                <img src='data:image/png;base64,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' width=640.0/>\n",
              "            </div>\n",
              "        "
            ],
            "application/vnd.jupyter.widget-view+json": {
              "version_major": 2,
              "version_minor": 0,
              "model_id": "20a3c4c28a3d4209aaf34eb2159fd043"
            }
          },
          "metadata": {
            "application/vnd.jupyter.widget-view+json": {
              "colab": {
                "custom_widget_manager": {
                  "url": "https://ssl.gstatic.com/colaboratory-static/widgets/colab-cdn-widget-manager/2b70e893a8ba7c0f/manager.min.js"
                }
              }
            }
          }
        }
      ]
    },
    {
      "cell_type": "code",
      "source": [
        "#digit 1\n",
        "one = iio.imread(uri=\"/content/drive/MyDrive/Image Processing/eight.tif\")\n",
        "one[0,0] = 1.0\n",
        "one[0,2] = 1.0\n",
        "one[1,1] = 0.0\n",
        "one[1,2] = 1.0\n",
        "one[2,0] = 1.0\n",
        "one[2,2] = 1.0\n",
        "one[3,0] = 1.0\n",
        "one[3,1] = 0.0\n",
        "one[3,2] = 1.0\n",
        "plt.imshow(one)\n",
        "plt.show()\n"
      ],
      "metadata": {
        "colab": {
          "base_uri": "https://localhost:8080/",
          "height": 569,
          "referenced_widgets": [
            "20a3c4c28a3d4209aaf34eb2159fd043",
            "531bfcffe33d4ecdb62ca76c6f64eb2c",
            "f864d9bc941346ae89b85abe0fc55aa9",
            "842721384c0747c2800e853e043c247a"
          ]
        },
        "id": "R_FDM4HuMbR6",
        "outputId": "49f0165f-f953-41d6-979d-66069216dd93"
      },
      "execution_count": 7,
      "outputs": [
        {
          "output_type": "display_data",
          "data": {
            "text/plain": [
              "Canvas(toolbar=Toolbar(toolitems=[('Home', 'Reset original view', 'home', 'home'), ('Back', 'Back to previous …"
            ],
            "image/png": "[encoded data removed]",
            "text/html": [
              "\n",
              "            <div style=\"display: inline-block;\">\n",
              "                <div class=\"jupyter-widgets widget-label\" style=\"text-align: center;\">\n",
              "                    Figure 1\n",
              "                </div>\n",
              "                <img src='data:image/png;base64,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' width=640.0/>\n",
              "            </div>\n",
              "        "
            ],
            "application/vnd.jupyter.widget-view+json": {
              "version_major": 2,
              "version_minor": 0,
              "model_id": "20a3c4c28a3d4209aaf34eb2159fd043"
            }
          },
          "metadata": {
            "application/vnd.jupyter.widget-view+json": {
              "colab": {
                "custom_widget_manager": {
                  "url": "https://ssl.gstatic.com/colaboratory-static/widgets/colab-cdn-widget-manager/2b70e893a8ba7c0f/manager.min.js"
                }
              }
            }
          }
        }
      ]
    },
    {
      "cell_type": "code",
      "source": [
        "#digit 2\n",
        "two = iio.imread(uri=\"/content/drive/MyDrive/Image Processing/eight.tif\")\n",
        "two[1,0] = 1.0\n",
        "two[3,2] = 1.0\n",
        "plt.imshow(two)\n",
        "plt.show()\n"
      ],
      "metadata": {
        "colab": {
          "base_uri": "https://localhost:8080/",
          "height": 569,
          "referenced_widgets": [
            "20a3c4c28a3d4209aaf34eb2159fd043",
            "531bfcffe33d4ecdb62ca76c6f64eb2c",
            "f864d9bc941346ae89b85abe0fc55aa9",
            "842721384c0747c2800e853e043c247a"
          ]
        },
        "id": "1m-pLJaYMl1a",
        "outputId": "8f97db1a-6f1f-482e-8620-f83ba2ccd791"
      },
      "execution_count": 8,
      "outputs": [
        {
          "output_type": "display_data",
          "data": {
            "text/plain": [
              "Canvas(toolbar=Toolbar(toolitems=[('Home', 'Reset original view', 'home', 'home'), ('Back', 'Back to previous …"
            ],
            "image/png": "[encoded data removed]",
            "text/html": [
              "\n",
              "            <div style=\"display: inline-block;\">\n",
              "                <div class=\"jupyter-widgets widget-label\" style=\"text-align: center;\">\n",
              "                    Figure 1\n",
              "                </div>\n",
              "                <img src='data:image/png;base64,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' width=640.0/>\n",
              "            </div>\n",
              "        "
            ],
            "application/vnd.jupyter.widget-view+json": {
              "version_major": 2,
              "version_minor": 0,
              "model_id": "20a3c4c28a3d4209aaf34eb2159fd043"
            }
          },
          "metadata": {
            "application/vnd.jupyter.widget-view+json": {
              "colab": {
                "custom_widget_manager": {
                  "url": "https://ssl.gstatic.com/colaboratory-static/widgets/colab-cdn-widget-manager/2b70e893a8ba7c0f/manager.min.js"
                }
              }
            }
          }
        }
      ]
    },
    {
      "cell_type": "code",
      "source": [
        "#digit 3\n",
        "three = iio.imread(uri=\"/content/drive/MyDrive/Image Processing/eight.tif\")\n",
        "three[1,0] = 1.0\n",
        "three[3,0] = 1.0\n",
        "plt.imshow(three)\n",
        "plt.show()\n"
      ],
      "metadata": {
        "colab": {
          "base_uri": "https://localhost:8080/",
          "height": 569,
          "referenced_widgets": [
            "20a3c4c28a3d4209aaf34eb2159fd043",
            "531bfcffe33d4ecdb62ca76c6f64eb2c",
            "f864d9bc941346ae89b85abe0fc55aa9",
            "842721384c0747c2800e853e043c247a"
          ]
        },
        "id": "vkXHzDADMz-m",
        "outputId": "8e193ec5-c7ab-44d3-eabd-375f93b19ccf"
      },
      "execution_count": 9,
      "outputs": [
        {
          "output_type": "display_data",
          "data": {
            "text/plain": [
              "Canvas(toolbar=Toolbar(toolitems=[('Home', 'Reset original view', 'home', 'home'), ('Back', 'Back to previous …"
            ],
            "image/png": "[encoded data removed]",
            "text/html": [
              "\n",
              "            <div style=\"display: inline-block;\">\n",
              "                <div class=\"jupyter-widgets widget-label\" style=\"text-align: center;\">\n",
              "                    Figure 1\n",
              "                </div>\n",
              "                <img src='data:image/png;base64,iVBORw0KGgoAAAANSUhEUgAAAoAAAAHgCAYAAAA10dzkAAAAOXRFWHRTb2Z0d2FyZQBNYXRwbG90bGliIHZlcnNpb24zLjcuMSwgaHR0cHM6Ly9tYXRwbG90bGliLm9yZy/bCgiHAAAACXBIWXMAAA9hAAAPYQGoP6dpAAASk0lEQVR4nO3dX2jVhf/H8feZy2N/zg5ZaI1N6kd8ifKrkplIP8JqJf6+SH6vuggyL4JgRrKb2k3SRSwIokKx6J83SVKwhPhWhDFHkGSTwIKKIGhgasGXs7mLo7nzu/jy2w+ZbtPpPkffjwd8iPPpI7w4IHuez/mopUaj0QgAANJoKXoAAABzSwACACQjAAEAkhGAAADJCEAAgGQEIABAMgIQACAZAQgAkIwABABIRgACACQjAAEAkhGAAADJCEAAgGQEIABAMgIQACAZAQgAkIwABABIRgACACQjAAEAkhGAAADJCEAAgGQEIABAMgIQACAZAQgAkIwABABIRgACACQjAAEAkhGAAADJCEAAgGQEIABAMgIQACAZAQgAkIwABABIRgACACQjAAEAkhGAAADJCEAAgGQEIABAMgIQACAZAQgAkIwABABIRgACACQjAAEAkhGAAADJCEAAgGQEIABAMgIQACAZAQgAkIwABABIRgACACQjAAEAkhGAAADJCEAAgGQEIABAMgIQACAZAQgAkExr0QPgSjY+Ph5HjhyJSqUSpVKp6DmQQqPRiNHR0Whvb4+WFvc54GwEIFxCR44cic7OzqJnQErDw8PR0dFR9AxoSgIQLqFKpRIREf8d/xOtcVXBayCHv+JUfBX/mvj9B0wmAOES+r+vfVvjqmgtCUCYE43//MdjF3BuHo4AAEhGAAIAJCMAAQCSEYAAAMkIQACAZAQgAEAyAhAAIBkBCACQjAAEAEhGAAIAJCMAAQCSEYAAAMkIQACAZAQgAEAyAhAAIBkBCACQjAAEAEhGAAIAJCMAAQCSEYAAAMkIQACAZAQgAEAyAhAAIBkBCACQjAAEAEhGAAIAJCMAAQCSEYAAAMkIQACAZAQgzMCOHTvilltuiQULFsTq1avjm2++KXoSAFwwAQjT2LNnT/T09MS2bdvi0KFDsXz58li3bl0cP3686GkAcEEEIEzjlVdeiSeffDI2b94cd9xxR7zxxhtxzTXXxLvvvlv0NAC4IAIQpnDy5MkYGhqKrq6uiXMtLS3R1dUVX3/9dYHLAODCtRY9AJrZn3/+GadPn47FixefcX7x4sXx448/Trq+Xq9HvV6feD0yMnLJNwLA+XIHEC6ivr6+qFarE0dnZ2fRkwBgEgEIU7jxxhtj3rx5cezYsTPOHzt2LG666aZJ1/f29katVps4hoeH52oqAMyYAIQpzJ8/P1auXBn79u2bODc+Ph779u2LNWvWTLq+XC5HW1vbGQcANBvPAMI0enp6YtOmTXH33XfHPffcE6+++mqMjY3F5s2bi54GABdEAMI0Hn300fjjjz/i+eefj6NHj8aKFSvis88+m/QHQwDgclFqNBqNokfAlWpkZCSq1WqsjUeitXRV0XMghb8ap2Ig9katVvMYBpyDZwABAJIRgAAAyQhAAIBkBCAAQDICEAAgGQEIAJCMAAQASEYAAgAkIwABAJIRgAAAyQhAAIBkBCAAQDICEAAgGQEIAJCMAAQASEYAAgAkIwABAJIRgAAAyQhAAIBkBCAAQDICEAAgGQEIAJCMAAQASEYAAgAkIwABAJIRgAAAyQhAAIBkBCAAQDICEAAgGQEIAJBMa9EDIIP+nw9HW8XnLWZvXfuKoicAVwA/kQAAkhGAAADJCEAAgGQEIABAMgIQACAZAQgAkIwABABIRgACACQjAAEAkhGAAADJCEAAgGQEIABAMgIQACAZAQgAkIwABABIRgACACQjAAEAkhGAAADJCEAAgGQEIABAMgIQACAZAQgAkIwABABIRgACACQjAAEAkhGAAADJCEAAgGQEIABAMgIQACAZAQgAkIwABABIRgACACQjAGEKg4ODsWHDhmhvb49SqRQff/xx0ZMAYNYEIExhbGwsli9fHjt27Ch6CgBcNK1FD4Bmtn79+li/fn3RMwDgohKAcBHV6/Wo1+sTr0dGRgpcAwBn5ytguIj6+vqiWq1OHJ2dnUVPAoBJBCBcRL29vVGr1SaO4eHhoicBwCS+AoaLqFwuR7lcLnoGAEzJHUAAgGTcAYQpnDhxIn755ZeJ17/++mt89913sXDhwliyZEmBywDgwglAmMK3334b999//8Trnp6eiIjYtGlT7Nq1q6BVADA7AhCmsHbt2mg0GkXPAICLyjOAAADJCEAAgGQEIABAMgIQACAZAQgAkIwABABIRgACACQjAAEAkhGAAADJCEAAgGQEIABAMgIQACAZAQgAkIwABABIRgACACQjAAEAkhGAAADJCEAAgGQEIABAMgIQACAZAQgAkIwABABIRgACACQjAAEAkhGAAADJCEAAgGQEIABAMgIQACAZAQgAkIwABABIprXoAZDBP//292gtXVX0DACICHcAAQDSEYAAAMkIQACAZAQgAEAyAhAAIBkBCACQjAAEAEhGAAIAJCMAAQCSEYAAAMkIQACAZAQgAEAyAhAAIBkBCACQjAAEAEhGAAIAJCMAAQCSEYAAAMkIQACAZAQgAEAyAhAAIBkBCACQjAAEAEhGAAIAJCMAAQCSEYAAAMkIQACAZAQgAEAyAhAAIBkBCACQjAAEAEhGAAIAJCMAYQp9fX2xatWqqFQqsWjRoti4cWP89NNPRc8CgFkRgDCF/fv3R3d3dxw4cCC++OKLOHXqVDz88MMxNjZW9DQAuGCtRQ+AZvbZZ5+d8XrXrl2xaNGiGBoaivvuu6+gVQAwOwIQzkOtVouIiIULF571/9fr9ajX6xOvR0ZG5mQXAJwPXwHDDI2Pj8fWrVvj3nvvjaVLl571mr6+vqhWqxNHZ2fnHK8EgOkJQJih7u7u+P777+ODDz445zW9vb1Rq9UmjuHh4TlcCAAz4ytgmIEtW7bEJ598EoODg9HR0XHO68rlcpTL5TlcBgDnTwDCFBqNRjz99NPR398fAwMDceuttxY9CQBmTQDCFLq7u2P37t2xd+/eqFQqcfTo0YiIqFarcfXVVxe8DgAujGcAYQo7d+6MWq0Wa9eujZtvvnni2LNnT9HTAOCCuQMIU2g0GkVPAICLzh1AAIBkBCAAQDICEAAgGQEIAJCMAAQASEYAAgAkIwABAJIRgAAAyQhAAIBkBCAAQDICEAAgGQEIAJCMAAQASEYAAgAkIwABAJIRgAAAyQhAAIBkBCAAQDICEAAgGQEIAJCMAAQASEYAAgAkIwABAJIRgAAAyQhAAIBkBCAAQDICEAAgGQEIAJCMAAQASEYAAgAk01r0AMig/+fD0VbxeYvZW9e+ougJwBXATyQAgGQEIABAMgIQACAZAQgAkIwABABIRgACACQjAAEAkhGAAADJCEAAgGQEIABAMgIQACAZAQgAkIwABABIRgACACQjAAEAkhGAAADJCEAAgGQEIABAMgIQACAZAQgAkIwABABIRgACACQjAAEAkhGAAADJCEAAgGQEIABAMgIQACAZAQgAkIwABABIRgACACQjAAEAkhGAAADJCECYws6dO2PZsmXR1tYWbW1tsWbNmvj000+LngUAsyIAYQodHR3x0ksvxdDQUHz77bfxwAMPxCOPPBI//PBD0dMA4IK1Fj0AmtmGDRvOeP3iiy/Gzp0748CBA3HnnXcWtAoAZkcAwgydPn06PvzwwxgbG4s1a9ac9Zp6vR71en3i9cjIyFzNA4AZ8xUwTOPw4cNx3XXXRblcjqeeeir6+/vjjjvuOOu1fX19Ua1WJ47Ozs45XgsA0ys1Go1G0SOgmZ08eTJ+++23qNVq8dFHH8Xbb78d+/fvP2sEnu0OYGdnZ/z75/+KtorPW8zeuvYVRU9oen81TsVA7I1arRZtbW1Fz4Gm5CtgmMb8+fPjtttui4iIlStXxsGDB+O1116LN998c9K15XI5yuXyXE8EgPPilgScp/Hx8TPu8gHA5cYdQJhCb29vrF+/PpYsWRKjo6Oxe/fuGBgYiM8//7zoaQBwwQQgTOH48ePx+OOPx++//x7VajWWLVsWn3/+eTz00ENFTwOACyYAYQrvvPNO0RMA4KLzDCAAQDICEAAgGQEIAJCMAAQASEYAAgAkIwABAJIRgAAAyQhAAIBkBCAAQDICEAAgGQEIAJCMAAQASEYAAgAkIwABAJIRgAAAyQhAAIBkBCAAQDICEAAgGQEIAJCMAAQASEYAAgAkIwABAJIRgAAAyQhAAIBkBCAAQDICEAAgGQEIAJCMAAQASEYAAgAkIwABAJJpLXoAZPDPv/09WktXFT0DACLCHUAAgHQEIABAMgIQACAZAQgAkIwABABIRgACACQjAAEAkhGAAADJCEAAgGQEIABAMgIQACAZAQgAkIwABABIRgACACQjAAEAkhGAAADJCEAAgGQEIABAMgIQACAZAQgAkIwABABIRgACACQjAAEAkhGAAADJCEAAgGQEIABAMgIQACAZAQgAkIwABABIRgACACQjAAEAkhGAAADJCECYoZdeeilKpVJs3bq16CkAMCsCEGbg4MGD8eabb8ayZcuKngIAsyYAYRonTpyIxx57LN566624/vrri54DALMmAGEa3d3d8Y9//CO6urqmvbZer8fIyMgZBwA0m9aiB0Az++CDD+LQoUNx8ODBGV3f19cXL7zwwiVeBQCz4w4gnMPw8HA888wz8f7778eCBQtm9Gt6e3ujVqtNHMPDw5d4JQCcP3cA4RyGhobi+PHjcdddd02cO336dAwODsb27dujXq/HvHnzzvg15XI5yuXyXE8FgPMiAOEcHnzwwTh8+PAZ5zZv3hy33357PPvss5PiDwAuFwIQzqFSqcTSpUvPOHfttdfGDTfcMOk8AFxOPAMIAJCMO4BwHgYGBoqeAACz5g4gAEAyAhAAIBkBCACQjAAEAEhGAAIAJCMAAQCSEYAAAMkIQACAZAQgAEAyAhAAIBkBCACQjAAEAEhGAAIAJCMAAQCSEYAAAMkIQACAZAQgAEAyAhAAIBkBCACQjAAEAEhGAAIAJCMAAQCSEYAAAMkIQACAZAQgAEAyAhAAIBkBCACQjAAEAEhGAAIAJNNa9AC4kjUajYiI+CtORTQKHgNJ/BWnIuL/f/8BkwlAuIRGR0cjIuKr+FfBSyCf0dHRqFarRc+AplRq+IgEl8z4+HgcOXIkKpVKlEqloudERMTIyEh0dnbG8PBwtLW1FT2naXmfZqYZ36dGoxGjo6PR3t4eLS2edIKzcQcQLqGWlpbo6OgoesZZtbW1Nc0P7GbmfZqZZnuf3PmDqfloBACQjAAEAEhGAEIy5XI5tm3bFuVyuegpTc37NDPeJ7g8+UMgAADJuAMIAJCMAAQASEYAAgAkIwABAJIRgJDMjh074pZbbokFCxbE6tWr45tvvil6UlMZHByMDRs2RHt7e5RKpfj444+LntSU+vr6YtWqVVGpVGLRokWxcePG+Omnn4qeBcyQAIRE9uzZEz09PbFt27Y4dOhQLF++PNatWxfHjx8velrTGBsbi+XLl8eOHTuKntLU9u/fH93d3XHgwIH44osv4tSpU/Hwww/H2NhY0dOAGfDXwEAiq1evjlWrVsX27dsj4j//VnFnZ2c8/fTT8dxzzxW8rvmUSqXo7++PjRs3Fj2l6f3xxx+xaNGi2L9/f9x3331FzwGm4Q4gJHHy5MkYGhqKrq6uiXMtLS3R1dUVX3/9dYHLuBLUarWIiFi4cGHBS4CZEICQxJ9//hmnT5+OxYsXn3F+8eLFcfTo0YJWcSUYHx+PrVu3xr333htLly4teg4wA61FDwDg8tbd3R3ff/99fPXVV0VPAWZIAEISN954Y8ybNy+OHTt2xvljx47FTTfdVNAqLndbtmyJTz75JAYHB6Ojo6PoOcAM+QoYkpg/f36sXLky9u3bN3FufHw89u3bF2vWrClwGZejRqMRW7Zsif7+/vjyyy/j1ltvLXoScB7cAYREenp6YtOmTXH33XfHPffcE6+++mqMjY3F5s2bi57WNE6cOBG//PLLxOtff/01vvvuu1i4cGEsWbKkwGXNpbu7O3bv3h179+6NSqUy8RxptVqNq6++uuB1wHT8NTCQzPbt2+Pll1+Oo0ePxooVK+L111+P1atXFz2raQwMDMT9998/6fymTZti165dcz+oSZVKpbOef++99+KJJ56Y2zHAeROAAADJeAYQACAZAQgAkIwABABIRgACACQjAAEAkhGAAADJCEAAgGQEIABAMgIQACAZAQgAkIwABABIRgACACQjAAEAkhGAAADJCEAAgGQEIABAMgIQACAZAQgAkIwABABIRgACACQjAAEAkhGAAADJCEAAgGQEIABAMgIQACAZAQgAkIwABABIRgACACQjAAEAkhGAAADJCEAAgGT+F47MB1aN0Ga0AAAAAElFTkSuQmCC' width=640.0/>\n",
              "            </div>\n",
              "        "
            ],
            "application/vnd.jupyter.widget-view+json": {
              "version_major": 2,
              "version_minor": 0,
              "model_id": "20a3c4c28a3d4209aaf34eb2159fd043"
            }
          },
          "metadata": {
            "application/vnd.jupyter.widget-view+json": {
              "colab": {
                "custom_widget_manager": {
                  "url": "https://ssl.gstatic.com/colaboratory-static/widgets/colab-cdn-widget-manager/2b70e893a8ba7c0f/manager.min.js"
                }
              }
            }
          }
        }
      ]
    },
    {
      "cell_type": "code",
      "source": [
        "#digit 4\n",
        "four = iio.imread(uri=\"/content/drive/MyDrive/Image Processing/eight.tif\")\n",
        "four[0,1] = 1.0\n",
        "four[3,0] = 1.0\n",
        "four[4,0] = 1.0\n",
        "four[4,1] = 1.0\n",
        "plt.imshow(four)\n",
        "plt.show()\n"
      ],
      "metadata": {
        "colab": {
          "base_uri": "https://localhost:8080/",
          "height": 569,
          "referenced_widgets": [
            "20a3c4c28a3d4209aaf34eb2159fd043",
            "531bfcffe33d4ecdb62ca76c6f64eb2c",
            "f864d9bc941346ae89b85abe0fc55aa9",
            "842721384c0747c2800e853e043c247a"
          ]
        },
        "id": "xk5xwUs_M9Pv",
        "outputId": "deaff58a-8129-4911-da48-ae04dc3ce1c0"
      },
      "execution_count": 10,
      "outputs": [
        {
          "output_type": "display_data",
          "data": {
            "text/plain": [
              "Canvas(toolbar=Toolbar(toolitems=[('Home', 'Reset original view', 'home', 'home'), ('Back', 'Back to previous …"
            ],
            "image/png": "[encoded data removed]",
            "text/html": [
              "\n",
              "            <div style=\"display: inline-block;\">\n",
              "                <div class=\"jupyter-widgets widget-label\" style=\"text-align: center;\">\n",
              "                    Figure 1\n",
              "                </div>\n",
              "                <img src='data:image/png;base64,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' width=640.0/>\n",
              "            </div>\n",
              "        "
            ],
            "application/vnd.jupyter.widget-view+json": {
              "version_major": 2,
              "version_minor": 0,
              "model_id": "20a3c4c28a3d4209aaf34eb2159fd043"
            }
          },
          "metadata": {
            "application/vnd.jupyter.widget-view+json": {
              "colab": {
                "custom_widget_manager": {
                  "url": "https://ssl.gstatic.com/colaboratory-static/widgets/colab-cdn-widget-manager/2b70e893a8ba7c0f/manager.min.js"
                }
              }
            }
          }
        }
      ]
    },
    {
      "cell_type": "code",
      "source": [
        "#digit 5\n",
        "five = iio.imread(uri=\"/content/drive/MyDrive/Image Processing/eight.tif\")\n",
        "five[1,2] = 1.0\n",
        "five[3,0] = 1.0\n",
        "plt.imshow(five)\n",
        "plt.show()\n"
      ],
      "metadata": {
        "colab": {
          "base_uri": "https://localhost:8080/",
          "height": 569,
          "referenced_widgets": [
            "20a3c4c28a3d4209aaf34eb2159fd043",
            "531bfcffe33d4ecdb62ca76c6f64eb2c",
            "f864d9bc941346ae89b85abe0fc55aa9",
            "842721384c0747c2800e853e043c247a"
          ]
        },
        "id": "EndXp5sSNIiH",
        "outputId": "94636bc1-c7d2-4ddb-f455-80755122c6d5"
      },
      "execution_count": 11,
      "outputs": [
        {
          "output_type": "display_data",
          "data": {
            "text/plain": [
              "Canvas(toolbar=Toolbar(toolitems=[('Home', 'Reset original view', 'home', 'home'), ('Back', 'Back to previous …"
            ],
            "image/png": "[encoded data removed]",
            "text/html": [
              "\n",
              "            <div style=\"display: inline-block;\">\n",
              "                <div class=\"jupyter-widgets widget-label\" style=\"text-align: center;\">\n",
              "                    Figure 1\n",
              "                </div>\n",
              "                <img src='data:image/png;base64,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' width=640.0/>\n",
              "            </div>\n",
              "        "
            ],
            "application/vnd.jupyter.widget-view+json": {
              "version_major": 2,
              "version_minor": 0,
              "model_id": "20a3c4c28a3d4209aaf34eb2159fd043"
            }
          },
          "metadata": {
            "application/vnd.jupyter.widget-view+json": {
              "colab": {
                "custom_widget_manager": {
                  "url": "https://ssl.gstatic.com/colaboratory-static/widgets/colab-cdn-widget-manager/2b70e893a8ba7c0f/manager.min.js"
                }
              }
            }
          }
        }
      ]
    },
    {
      "cell_type": "code",
      "source": [
        "#digit 6\n",
        "six = iio.imread(uri=\"/content/drive/MyDrive/Image Processing/eight.tif\")\n",
        "six[1,2] = 1.0\n",
        "plt.imshow(six)\n",
        "plt.show()\n"
      ],
      "metadata": {
        "colab": {
          "base_uri": "https://localhost:8080/",
          "height": 569,
          "referenced_widgets": [
            "20a3c4c28a3d4209aaf34eb2159fd043",
            "531bfcffe33d4ecdb62ca76c6f64eb2c",
            "f864d9bc941346ae89b85abe0fc55aa9",
            "842721384c0747c2800e853e043c247a"
          ]
        },
        "id": "v8vo4QujNP-c",
        "outputId": "aba44bae-8e47-4993-a508-f81b5a14ed35"
      },
      "execution_count": 12,
      "outputs": [
        {
          "output_type": "display_data",
          "data": {
            "text/plain": [
              "Canvas(toolbar=Toolbar(toolitems=[('Home', 'Reset original view', 'home', 'home'), ('Back', 'Back to previous …"
            ],
            "image/png": "[encoded data removed]",
            "text/html": [
              "\n",
              "            <div style=\"display: inline-block;\">\n",
              "                <div class=\"jupyter-widgets widget-label\" style=\"text-align: center;\">\n",
              "                    Figure 1\n",
              "                </div>\n",
              "                <img src='data:image/png;base64,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' width=640.0/>\n",
              "            </div>\n",
              "        "
            ],
            "application/vnd.jupyter.widget-view+json": {
              "version_major": 2,
              "version_minor": 0,
              "model_id": "20a3c4c28a3d4209aaf34eb2159fd043"
            }
          },
          "metadata": {
            "application/vnd.jupyter.widget-view+json": {
              "colab": {
                "custom_widget_manager": {
                  "url": "https://ssl.gstatic.com/colaboratory-static/widgets/colab-cdn-widget-manager/2b70e893a8ba7c0f/manager.min.js"
                }
              }
            }
          }
        }
      ]
    },
    {
      "cell_type": "code",
      "source": [
        "#digit 7\n",
        "seven = iio.imread(uri=\"/content/drive/MyDrive/Image Processing/eight.tif\")\n",
        "seven[1,0] = 1.0\n",
        "seven[1,2] = 0.0\n",
        "seven[2,0] = 1.0\n",
        "seven[2,1] = 1.0\n",
        "seven[3,0] = 1.0\n",
        "seven[4,0] = 1.0\n",
        "seven[4,1] = 1.0\n",
        "plt.imshow(seven)\n",
        "plt.show()\n"
      ],
      "metadata": {
        "colab": {
          "base_uri": "https://localhost:8080/",
          "height": 569,
          "referenced_widgets": [
            "20a3c4c28a3d4209aaf34eb2159fd043",
            "531bfcffe33d4ecdb62ca76c6f64eb2c",
            "f864d9bc941346ae89b85abe0fc55aa9",
            "842721384c0747c2800e853e043c247a"
          ]
        },
        "id": "8gDEZ82cNdKb",
        "outputId": "ab50a357-dbae-413d-b1ed-3103d2bcd3c6"
      },
      "execution_count": 13,
      "outputs": [
        {
          "output_type": "display_data",
          "data": {
            "text/plain": [
              "Canvas(toolbar=Toolbar(toolitems=[('Home', 'Reset original view', 'home', 'home'), ('Back', 'Back to previous …"
            ],
            "image/png": "[encoded data removed]",
            "text/html": [
              "\n",
              "            <div style=\"display: inline-block;\">\n",
              "                <div class=\"jupyter-widgets widget-label\" style=\"text-align: center;\">\n",
              "                    Figure 1\n",
              "                </div>\n",
              "                <img src='data:image/png;base64,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' width=640.0/>\n",
              "            </div>\n",
              "        "
            ],
            "application/vnd.jupyter.widget-view+json": {
              "version_major": 2,
              "version_minor": 0,
              "model_id": "20a3c4c28a3d4209aaf34eb2159fd043"
            }
          },
          "metadata": {
            "application/vnd.jupyter.widget-view+json": {
              "colab": {
                "custom_widget_manager": {
                  "url": "https://ssl.gstatic.com/colaboratory-static/widgets/colab-cdn-widget-manager/2b70e893a8ba7c0f/manager.min.js"
                }
              }
            }
          }
        }
      ]
    },
    {
      "cell_type": "code",
      "source": [
        "#digit 8\n",
        "eight = iio.imread(uri=\"/content/drive/MyDrive/Image Processing/eight.tif\")\n",
        "plt.imshow(eight)\n",
        "plt.show()\n"
      ],
      "metadata": {
        "colab": {
          "base_uri": "https://localhost:8080/",
          "height": 569,
          "referenced_widgets": [
            "20a3c4c28a3d4209aaf34eb2159fd043",
            "531bfcffe33d4ecdb62ca76c6f64eb2c",
            "f864d9bc941346ae89b85abe0fc55aa9",
            "842721384c0747c2800e853e043c247a"
          ]
        },
        "id": "7JhDIwYwNq2M",
        "outputId": "928d2356-6343-465e-9289-7a32e536fd4a"
      },
      "execution_count": 14,
      "outputs": [
        {
          "output_type": "display_data",
          "data": {
            "text/plain": [
              "Canvas(toolbar=Toolbar(toolitems=[('Home', 'Reset original view', 'home', 'home'), ('Back', 'Back to previous …"
            ],
            "image/png": "[encoded data removed]",
            "text/html": [
              "\n",
              "            <div style=\"display: inline-block;\">\n",
              "                <div class=\"jupyter-widgets widget-label\" style=\"text-align: center;\">\n",
              "                    Figure 1\n",
              "                </div>\n",
              "                <img src='data:image/png;base64,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' width=640.0/>\n",
              "            </div>\n",
              "        "
            ],
            "application/vnd.jupyter.widget-view+json": {
              "version_major": 2,
              "version_minor": 0,
              "model_id": "20a3c4c28a3d4209aaf34eb2159fd043"
            }
          },
          "metadata": {
            "application/vnd.jupyter.widget-view+json": {
              "colab": {
                "custom_widget_manager": {
                  "url": "https://ssl.gstatic.com/colaboratory-static/widgets/colab-cdn-widget-manager/2b70e893a8ba7c0f/manager.min.js"
                }
              }
            }
          }
        }
      ]
    },
    {
      "cell_type": "code",
      "source": [
        "#digit 9\n",
        "nine = iio.imread(uri=\"/content/drive/MyDrive/Image Processing/eight.tif\")\n",
        "nine[3,0] = 1.0\n",
        "plt.imshow(nine)\n",
        "plt.show()\n"
      ],
      "metadata": {
        "colab": {
          "base_uri": "https://localhost:8080/",
          "height": 569,
          "referenced_widgets": [
            "20a3c4c28a3d4209aaf34eb2159fd043",
            "531bfcffe33d4ecdb62ca76c6f64eb2c",
            "f864d9bc941346ae89b85abe0fc55aa9",
            "842721384c0747c2800e853e043c247a"
          ]
        },
        "id": "TqlSpnh1N0lG",
        "outputId": "954340a1-2046-459e-8b78-61d98334ed44"
      },
      "execution_count": 15,
      "outputs": [
        {
          "output_type": "display_data",
          "data": {
            "text/plain": [
              "Canvas(toolbar=Toolbar(toolitems=[('Home', 'Reset original view', 'home', 'home'), ('Back', 'Back to previous …"
            ],
            "image/png": "[encoded data removed]",
            "text/html": [
              "\n",
              "            <div style=\"display: inline-block;\">\n",
              "                <div class=\"jupyter-widgets widget-label\" style=\"text-align: center;\">\n",
              "                    Figure 1\n",
              "                </div>\n",
              "                <img src='data:image/png;base64,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' width=640.0/>\n",
              "            </div>\n",
              "        "
            ],
            "application/vnd.jupyter.widget-view+json": {
              "version_major": 2,
              "version_minor": 0,
              "model_id": "20a3c4c28a3d4209aaf34eb2159fd043"
            }
          },
          "metadata": {
            "application/vnd.jupyter.widget-view+json": {
              "colab": {
                "custom_widget_manager": {
                  "url": "https://ssl.gstatic.com/colaboratory-static/widgets/colab-cdn-widget-manager/2b70e893a8ba7c0f/manager.min.js"
                }
              }
            }
          }
        }
      ]
    }
  ],
  "metadata": {
    "colab": {
      "provenance": []
    },
    "kernelspec": {
      "display_name": "Python 3",
      "name": "python3"
    },
    "widgets": {
      "application/vnd.jupyter.widget-state+json": {
        "20a3c4c28a3d4209aaf34eb2159fd043": {
          "model_module": "jupyter-matplotlib",
          "model_name": "MPLCanvasModel",
          "model_module_version": "^0.11",
          "state": {
            "_cursor": "default",
            "_data_url": "data:image/png;base64,iVBORw0KGgoAAAANSUhEUgAAAoAAAAHgCAYAAAA10dzkAAAAOXRFWHRTb2Z0d2FyZQBNYXRwbG90bGliIHZlcnNpb24zLjcuMSwgaHR0cHM6Ly9tYXRwbG90bGliLm9yZy/bCgiHAAAACXBIWXMAAA9hAAAPYQGoP6dpAAASaUlEQVR4nO3dX2hXh93H8W8082e3JWGuaBcSaWGw0YnKrBXpQ2m3rOIzpN7tYrDMi8FGLJPcbLmZ7GKkMBjdUFwZ27yZVHZhC2WrFIeGQl1tRGg3Vij0IuDU9ibRXKTW/HYxnjyImsS/J/bzesFBzvEIH34gfXt+R9vRbrfbBQBAjGVNDwAA4N4SgAAAYQQgAEAYAQgAEEYAAgCEEYAAAGEEIABAGAEIABBGAAIAhBGAAABhBCAAQBgBCAAQRgACAIQRgAAAYQQgAEAYAQgAEEYAAgCEEYAAAGEEIABAGAEIABBGAAIAhBGAAABhBCAAQBgBCAAQRgACAIQRgAAAYQQgAEAYAQgAEEYAAgCEEYAAAGEEIABAGAEIABBGAAIAhBGAAABhBCAAQBgBCAAQRgACAIQRgAAAYQQgAEAYAQgAEEYAAgCEEYAAAGEEIABAGAEIABBGAAIAhBGAAABhBCAAQBgBCAAQRgACAIQRgAAAYQQgAEAYAQgAEEYAAgCEEYAAAGEEIABAGAEIABCms+kB8Gk2OztbZ8+era6ururo6Gh6DkRot9t18eLF6u3trWXLPOeA6xGAcBedPXu2+vv7m54BkSYmJqqvr6/pGbAkCUC4i7q6uqqq6n/qf6uzPtPwGsjwSV2uN+ovc7//gGsJQLiL/u9r3876THV2CEC4J9r//cFrF3BjXo4AAAgjAAEAwghAAIAwAhAAIIwABAAIIwABAMIIQACAMAIQACCMAAQACCMAAQDCCEAAgDACEAAgjAAEAAgjAAEAwghAAIAwAhAAIIwABAAIIwABAMIIQACAMAIQACCMAAQACCMAAQDCCEAAgDACEAAgjAAEAAgjAAEAwghAAIAwAhAAIIwABAAIIwBhEfbv318PP/xwrVy5srZs2VJvvfVW05MA4JYJQFjA4cOHa3h4uPbu3VunT5+uDRs21LZt2+rChQtNTwOAWyIAYQG/+tWv6gc/+EHt2rWrHn300frtb39bn/3sZ+sPf/hD09MA4JYIQJjHxx9/XOPj4zUwMDB3bdmyZTUwMFBvvvlmg8sA4NZ1Nj0AlrKPPvqorly5UmvWrLnq+po1a+pf//rXNffPzMzUzMzM3PnU1NRd3wgAN8sTQLiDRkdHq6enZ+7o7+9vehIAXEMAwjwefPDBWr58eZ0/f/6q6+fPn6+HHnromvtHRkZqcnJy7piYmLhXUwFg0QQgzGPFihW1adOmOnbs2Ny12dnZOnbsWG3duvWa+1utVnV3d191AMBS4x1AWMDw8HANDg7WY489Vo8//ni98MILNT09Xbt27Wp6GgDcEgEIC/jOd75TH374Yf3sZz+rc+fO1caNG+u111675i+GAMD9oqPdbrebHgGfVlNTU9XT01NP1bPV2fGZpudAhE/al+t4vVKTk5New4Ab8A4gAEAYAQgAEEYAAgCEEYAAAGEEIABAGAEIABBGAAIAhBGAAABhBCAAQBgBCAAQRgACAIQRgAAAYQQgAEAYAQgAEEYAAgCEEYAAAGEEIABAGAEIABBGAAIAhBGAAABhBCAAQBgBCAAQRgACAIQRgAAAYQQgAEAYAQgAEEYAAgCEEYAAAGEEIABAGAEIABCms+kBAFVVR8+eaXrCfWFb78amJwCfAp4AAgCEEYAAAGEEIABAGAEIABBGAAIAhBGAAABhBCAAQBgBCAAQRgACAIQRgAAAYQQgAEAYAQgAEEYAAgCEEYAAAGEEIABAGAEIABBGAAIAhBGAAABhBCAAQBgBCAAQRgACAIQRgAAAYQQgAEAYAQgAEEYAAgCEEYAAAGEEIABAGAEIABBGAAIAhBGAAABhBCAAQBgBCAAQRgDCPMbGxmrHjh3V29tbHR0d9fLLLzc9CQBumwCEeUxPT9eGDRtq//79TU8BgDums+kBsJRt3769tm/f3vQMALijBCDcQTMzMzUzMzN3PjU11eAaALg+XwHDHTQ6Olo9PT1zR39/f9OTAOAaAhDuoJGRkZqcnJw7JiYmmp4EANfwFTDcQa1Wq1qtVtMzAGBengACAITxBBDmcenSpXr//ffnzj/44IM6c+ZMrVq1qtauXdvgMgC4dQIQ5vH222/X008/PXc+PDxcVVWDg4N18ODBhlYBwO0RgDCPp556qtrtdtMzAOCO8g4gAEAYAQgAEEYAAgCEEYAAAGEEIABAGAEIABBGAAIAhBGAAABhBCAAQBgBCAAQRgACAIQRgAAAYQQgAEAYAQgAEEYAAgCEEYAAAGEEIABAGAEIABBGAAIAhBGAAABhBCAAQBgBCAAQRgACAIQRgAAAYQQgAEAYAQgAEEYAAgCEEYAAAGEEIABAGAEIABCms+kBAFVV23o3Nj0BIIYngAAAYQQgAEAYAQgAEEYAAgCEEYAAAGEEIABAGAEIABBGAAIAhBGAAABhBCAAQBgBCAAQRgACAIQRgAAAYQQgAEAYAQgAEEYAAgCEEYAAAGEEIABAGAEIABBGAAIAhBGAAABhBCAAQBgBCAAQRgACAIQRgAAAYQQgAEAYAQgAEEYAAgCEEYAAAGEEIABAGAEIABBGAAIAhBGAMI/R0dHavHlzdXV11erVq2vnzp313nvvNT0LAG6LAIR5nDhxooaGhurkyZP1+uuv1+XLl+uZZ56p6enppqcBwC3rbHoALGWvvfbaVecHDx6s1atX1/j4eD355JMNrQKA2yMA4SZMTk5WVdWqVauu+/MzMzM1MzMzdz41NXVPdgHAzfAVMCzS7Oxs7dmzp5544olat27dde8ZHR2tnp6euaO/v/8erwSAhQlAWKShoaF6991366WXXrrhPSMjIzU5OTl3TExM3MOFALA4vgKGRdi9e3e9+uqrNTY2Vn19fTe8r9VqVavVuofLAODmCUCYR7vdrueee66OHDlSx48fr0ceeaTpSQBw2wQgzGNoaKgOHTpUr7zySnV1ddW5c+eqqqqnp6ceeOCBhtcBwK3xDiDM48CBAzU5OVlPPfVUfelLX5o7Dh8+3PQ0ALhlngDCPNrtdtMTAOCO8wQQACCMAAQACCMAAQDCCEAAgDACEAAgjAAEAAgjAAEAwghAAIAwAhAAIIwABAAIIwABAMIIQACAMAIQACCMAAQACCMAAQDCCEAAgDACEAAgjAAEAAgjAAEAwghAAIAwAhAAIIwABAAIIwABAMIIQACAMAIQACCMAAQACCMAAQDCCEAAgDACEAAgjAAEAAjT2fQAgKqqo2fPND3hvrCtd2PTE4BPAU8AAQDCCEAAgDACEAAgjAAEAAgjAAEAwghAAIAwAhAAIIwABAAIIwABAMIIQACAMAIQACCMAAQACCMAAQDCCEAAgDACEAAgjAAEAAgjAAEAwghAAIAwAhAAIIwABAAIIwABAMIIQACAMAIQACCMAAQACCMAAQDCCEAAgDACEAAgjAAEAAgjAAEAwghAAIAwAhAAIIwABAAIIwBhHgcOHKj169dXd3d3dXd319atW+uvf/1r07MA4LYIQJhHX19fPf/88zU+Pl5vv/12feMb36hnn322/vGPfzQ9DQBuWWfTA2Ap27Fjx1Xnv/jFL+rAgQN18uTJ+trXvtbQKgC4PQIQFunKlSv15z//uaanp2vr1q3XvWdmZqZmZmbmzqempu7VPABYNF8BwwLeeeed+vznP1+tVqt++MMf1pEjR+rRRx+97r2jo6PV09Mzd/T399/jtQCwMAEIC/jKV75SZ86cqb///e/1ox/9qAYHB+uf//znde8dGRmpycnJuWNiYuIerwWAhfkKGBawYsWK+vKXv1xVVZs2bapTp07Vr3/963rxxRevubfValWr1brXEwHgpngCCDdpdnb2qvf8AOB+4wkgzGNkZKS2b99ea9eurYsXL9ahQ4fq+PHjdfTo0aanAcAtE4AwjwsXLtT3vve9+ve//109PT21fv36Onr0aH3rW99qehoA3DIBCPP4/e9/3/QEALjjvAMIABBGAAIAhBGAAABhBCAAQBgBCAAQRgACAIQRgAAAYQQgAEAYAQgAEEYAAgCEEYAAAGEEIABAGAEIABBGAAIAhBGAAABhBCAAQBgBCAAQRgACAIQRgAAAYQQgAEAYAQgAEEYAAgCEEYAAAGEEIABAGAEIABBGAAIAhBGAAABhBCAAQBgBCAAQRgACAITpbHoAQFXVtt6NTU8AiOEJIABAGAEIABBGAAIAhBGAAABhBCAAQBgBCAAQRgACAIQRgAAAYQQgAEAYAQgAEEYAAgCEEYAAAGEEIABAGAEIABBGAAIAhBGAAABhBCAAQBgBCAAQRgACAIQRgAAAYQQgAEAYAQgAEEYAAgCEEYAAAGEEIABAGAEIABBGAAIAhBGAAABhBCAAQBgBCAAQRgACAIQRgAAAYQQgLNLzzz9fHR0dtWfPnqanAMBtEYCwCKdOnaoXX3yx1q9f3/QUALhtAhAWcOnSpfrud79bv/vd7+oLX/hC03MA4LYJQFjA0NBQffvb366BgYEF752ZmampqamrDgBYajqbHgBL2UsvvVSnT5+uU6dOLer+0dHR+vnPf36XVwHA7fEEEG5gYmKifvzjH9ef/vSnWrly5aJ+zcjISE1OTs4dExMTd3klANw8TwDhBsbHx+vChQv19a9/fe7alStXamxsrPbt21czMzO1fPnyq35Nq9WqVqt1r6cCwE0RgHAD3/zmN+udd9656tquXbvqq1/9av3kJz+5Jv4A4H4hAOEGurq6at26dVdd+9znPldf/OIXr7kOAPcT7wACAITxBBBuwvHjx5ueAAC3zRNAAIAwAhAAIIwABAAIIwABAMIIQACAMAIQACCMAAQACCMAAQDCCEAAgDACEAAgjAAEAAgjAAEAwghAAIAwAhAAIIwABAAIIwABAMIIQACAMAIQACCMAAQACCMAAQDCCEAAgDACEAAgjAAEAAgjAAEAwghAAIAwAhAAIIwABAAIIwABAMIIQACAMJ1ND4BPs3a7XVVVn9TlqnbDYyDEJ3W5qv7/9x9wLQEId9HFixerquqN+kvDSyDPxYsXq6enp+kZsCR1tP0RCe6a2dnZOnv2bHV1dVVHR0fTc6qqampqqvr7+2tiYqK6u7ubnrNk+ZwWZyl+Tu12uy5evFi9vb21bJk3neB6PAGEu2jZsmXV19fX9Izr6u7uXjL/wV7KfE6Ls9Q+J0/+YH7+aAQAEEYAAgCEEYAQptVq1d69e6vVajU9ZUnzOS2OzwnuT/4SCABAGE8AAQDCCEAAgDACEAAgjAAEAAgjACHM/v376+GHH66VK1fWli1b6q233mp60pIyNjZWO3bsqN7e3uro6KiXX3656UlL0ujoaG3evLm6urpq9erVtXPnznrvvfeangUskgCEIIcPH67h4eHau3dvnT59ujZs2FDbtm2rCxcuND1tyZienq4NGzbU/v37m56ypJ04caKGhobq5MmT9frrr9fly5frmWeeqenp6aanAYvgn4GBIFu2bKnNmzfXvn37quq//6/i/v7+eu655+qnP/1pw+uWno6Ojjpy5Ejt3Lmz6SlL3ocfflirV6+uEydO1JNPPtn0HGABngBCiI8//rjGx8drYGBg7tqyZctqYGCg3nzzzQaX8WkwOTlZVVWrVq1qeAmwGAIQQnz00Ud15cqVWrNmzVXX16xZU+fOnWtoFZ8Gs7OztWfPnnriiSdq3bp1Tc8BFqGz6QEA3N+Ghobq3XffrTfeeKPpKcAiCUAI8eCDD9by5cvr/PnzV10/f/58PfTQQw2t4n63e/fuevXVV2tsbKz6+vqangMskq+AIcSKFStq06ZNdezYsblrs7OzdezYsdq6dWuDy7gftdvt2r17dx05cqT+9re/1SOPPNL0JOAmeAIIQYaHh2twcLAee+yxevzxx+uFF16o6enp2rVrV9PTloxLly7V+++/P3f+wQcf1JkzZ2rVqlW1du3aBpctLUNDQ3Xo0KF65ZVXqqura+490p6ennrggQcaXgcsxD8DA2H27dtXv/zlL+vcuXO1cePG+s1vflNbtmxpetaScfz48Xr66aevuT44OFgHDx6894OWqI6Ojute/+Mf/1jf//737+0Y4KYJQACAMN4BBAAIIwABAMIIQACAMAIQACCMAAQACCMAAQDCCEAAgDACEAAgjAAEAAgjAAEAwghAAIAwAhAAIIwABAAIIwABAMIIQACAMAIQACCMAAQACCMAAQDCCEAAgDACEAAgjAAEAAgjAAEAwghAAIAwAhAAIIwABAAIIwABAMIIQACAMAIQACCMAAQACCMAAQDCCEAAgDD/AWAY96Wyu/mgAAAAAElFTkSuQmCC",
            "_dom_classes": [],
            "_figure_label": "Figure 1",
            "_image_mode": "diff",
            "_message": "",
            "_model_module": "jupyter-matplotlib",
            "_model_module_version": "^0.11",
            "_model_name": "MPLCanvasModel",
            "_rubberband_height": 0,
            "_rubberband_width": 0,
            "_rubberband_x": 0,
            "_rubberband_y": 0,
            "_size": [
              640,
              480
            ],
            "_view_count": null,
            "_view_module": "jupyter-matplotlib",
            "_view_module_version": "^0.11",
            "_view_name": "MPLCanvasView",
            "capture_scroll": false,
            "footer_visible": true,
            "header_visible": true,
            "layout": "IPY_MODEL_531bfcffe33d4ecdb62ca76c6f64eb2c",
            "pan_zoom_throttle": 33,
            "resizable": true,
            "toolbar": "IPY_MODEL_f864d9bc941346ae89b85abe0fc55aa9",
            "toolbar_position": "left",
            "toolbar_visible": "fade-in-fade-out"
          }
        },
        "531bfcffe33d4ecdb62ca76c6f64eb2c": {
          "model_module": "@jupyter-widgets/base",
          "model_name": "LayoutModel",
          "model_module_version": "1.2.0",
          "state": {
            "_model_module": "@jupyter-widgets/base",
            "_model_module_version": "1.2.0",
            "_model_name": "LayoutModel",
            "_view_count": null,
            "_view_module": "@jupyter-widgets/base",
            "_view_module_version": "1.2.0",
            "_view_name": "LayoutView",
            "align_content": null,
            "align_items": null,
            "align_self": null,
            "border": null,
            "bottom": null,
            "display": null,
            "flex": null,
            "flex_flow": null,
            "grid_area": null,
            "grid_auto_columns": null,
            "grid_auto_flow": null,
            "grid_auto_rows": null,
            "grid_column": null,
            "grid_gap": null,
            "grid_row": null,
            "grid_template_areas": null,
            "grid_template_columns": null,
            "grid_template_rows": null,
            "height": null,
            "justify_content": null,
            "justify_items": null,
            "left": null,
            "margin": null,
            "max_height": null,
            "max_width": null,
            "min_height": null,
            "min_width": null,
            "object_fit": null,
            "object_position": null,
            "order": null,
            "overflow": null,
            "overflow_x": null,
            "overflow_y": null,
            "padding": null,
            "right": null,
            "top": null,
            "visibility": null,
            "width": null
          }
        },
        "f864d9bc941346ae89b85abe0fc55aa9": {
          "model_module": "jupyter-matplotlib",
          "model_name": "ToolbarModel",
          "model_module_version": "^0.11",
          "state": {
            "_current_action": "",
            "_dom_classes": [],
            "_model_module": "jupyter-matplotlib",
            "_model_module_version": "^0.11",
            "_model_name": "ToolbarModel",
            "_view_count": null,
            "_view_module": "jupyter-matplotlib",
            "_view_module_version": "^0.11",
            "_view_name": "ToolbarView",
            "button_style": "",
            "collapsed": true,
            "layout": "IPY_MODEL_842721384c0747c2800e853e043c247a",
            "orientation": "vertical",
            "toolitems": [
              [
                "Home",
                "Reset original view",
                "home",
                "home"
              ],
              [
                "Back",
                "Back to previous view",
                "arrow-left",
                "back"
              ],
              [
                "Forward",
                "Forward to next view",
                "arrow-right",
                "forward"
              ],
              [
                "Pan",
                "Left button pans, Right button zooms\nx/y fixes axis, CTRL fixes aspect",
                "arrows",
                "pan"
              ],
              [
                "Zoom",
                "Zoom to rectangle\nx/y fixes axis",
                "square-o",
                "zoom"
              ],
              [
                "Download",
                "Download plot",
                "floppy-o",
                "save_figure"
              ]
            ]
          }
        },
        "842721384c0747c2800e853e043c247a": {
          "model_module": "@jupyter-widgets/base",
          "model_name": "LayoutModel",
          "model_module_version": "1.2.0",
          "state": {
            "_model_module": "@jupyter-widgets/base",
            "_model_module_version": "1.2.0",
            "_model_name": "LayoutModel",
            "_view_count": null,
            "_view_module": "@jupyter-widgets/base",
            "_view_module_version": "1.2.0",
            "_view_name": "LayoutView",
            "align_content": null,
            "align_items": null,
            "align_self": null,
            "border": null,
            "bottom": null,
            "display": null,
            "flex": null,
            "flex_flow": null,
            "grid_area": null,
            "grid_auto_columns": null,
            "grid_auto_flow": null,
            "grid_auto_rows": null,
            "grid_column": null,
            "grid_gap": null,
            "grid_row": null,
            "grid_template_areas": null,
            "grid_template_columns": null,
            "grid_template_rows": null,
            "height": null,
            "justify_content": null,
            "justify_items": null,
            "left": null,
            "margin": null,
            "max_height": null,
            "max_width": null,
            "min_height": null,
            "min_width": null,
            "object_fit": null,
            "object_position": null,
            "order": null,
            "overflow": null,
            "overflow_x": null,
            "overflow_y": null,
            "padding": null,
            "right": null,
            "top": null,
            "visibility": null,
            "width": null
          }
        }
      }
    }
  },
  "nbformat": 4,
  "nbformat_minor": 0
}